{
 "cells": [
  {
   "cell_type": "markdown",
   "id": "44175575-8740-4cc4-80d4-5c24df423acb",
   "metadata": {
    "tags": []
   },
   "source": [
    "# Semantic Caching using Bedrock & REC"
   ]
  },
  {
   "cell_type": "markdown",
   "id": "ee029485-2cd0-4e13-8b77-5048763fcdb3",
   "metadata": {},
   "source": [
    "## 1. Install the required libraries"
   ]
  },
  {
   "cell_type": "code",
   "execution_count": 3,
   "id": "37ea4db8-a5e3-4a12-bbb0-1cd9792fbe34",
   "metadata": {
    "tags": []
   },
   "outputs": [
    {
     "name": "stdout",
     "output_type": "stream",
     "text": [
      "/root/redis-bedrock-gen-ai-app\n",
      "Requirement already satisfied: pip in /opt/conda/lib/python3.10/site-packages (23.3.2)\n",
      "\u001b[33mWARNING: Running pip as the 'root' user can result in broken permissions and conflicting behaviour with the system package manager. It is recommended to use a virtual environment instead: https://pip.pypa.io/warnings/venv\u001b[0m\u001b[33m\n",
      "\u001b[0mRequirement already satisfied: boto3 in /opt/conda/lib/python3.10/site-packages (1.33.9)\n",
      "Requirement already satisfied: botocore<1.34.0,>=1.33.9 in /opt/conda/lib/python3.10/site-packages (from boto3) (1.33.9)\n",
      "Requirement already satisfied: jmespath<2.0.0,>=0.7.1 in /opt/conda/lib/python3.10/site-packages (from boto3) (0.10.0)\n",
      "Requirement already satisfied: s3transfer<0.9.0,>=0.8.2 in /opt/conda/lib/python3.10/site-packages (from boto3) (0.8.2)\n",
      "Requirement already satisfied: python-dateutil<3.0.0,>=2.1 in /opt/conda/lib/python3.10/site-packages (from botocore<1.34.0,>=1.33.9->boto3) (2.8.2)\n",
      "Requirement already satisfied: urllib3<2.1,>=1.25.4 in /opt/conda/lib/python3.10/site-packages (from botocore<1.34.0,>=1.33.9->boto3) (2.0.7)\n",
      "Requirement already satisfied: six>=1.5 in /opt/conda/lib/python3.10/site-packages (from python-dateutil<3.0.0,>=2.1->botocore<1.34.0,>=1.33.9->boto3) (1.16.0)\n",
      "\u001b[33mWARNING: Running pip as the 'root' user can result in broken permissions and conflicting behaviour with the system package manager. It is recommended to use a virtual environment instead: https://pip.pypa.io/warnings/venv\u001b[0m\u001b[33m\n",
      "\u001b[0m\u001b[33mWARNING: Running pip as the 'root' user can result in broken permissions and conflicting behaviour with the system package manager. It is recommended to use a virtual environment instead: https://pip.pypa.io/warnings/venv\u001b[0m\u001b[33m\n",
      "\u001b[0mNote: you may need to restart the kernel to use updated packages.\n",
      "\u001b[33mWARNING: Running pip as the 'root' user can result in broken permissions and conflicting behaviour with the system package manager. It is recommended to use a virtual environment instead: https://pip.pypa.io/warnings/venv\u001b[0m\u001b[33m\n",
      "\u001b[0mNote: you may need to restart the kernel to use updated packages.\n",
      "Requirement already satisfied: matplotlib in /opt/conda/lib/python3.10/site-packages (3.5.2)\n",
      "Requirement already satisfied: cycler>=0.10 in /opt/conda/lib/python3.10/site-packages (from matplotlib) (0.11.0)\n",
      "Requirement already satisfied: fonttools>=4.22.0 in /opt/conda/lib/python3.10/site-packages (from matplotlib) (4.25.0)\n",
      "Requirement already satisfied: kiwisolver>=1.0.1 in /opt/conda/lib/python3.10/site-packages (from matplotlib) (1.4.2)\n",
      "Requirement already satisfied: numpy>=1.17 in /opt/conda/lib/python3.10/site-packages (from matplotlib) (1.26.2)\n",
      "Requirement already satisfied: packaging>=20.0 in /opt/conda/lib/python3.10/site-packages (from matplotlib) (21.3)\n",
      "Requirement already satisfied: pillow>=6.2.0 in /opt/conda/lib/python3.10/site-packages (from matplotlib) (10.1.0)\n",
      "Requirement already satisfied: pyparsing>=2.2.1 in /opt/conda/lib/python3.10/site-packages (from matplotlib) (3.0.9)\n",
      "Requirement already satisfied: python-dateutil>=2.7 in /opt/conda/lib/python3.10/site-packages (from matplotlib) (2.8.2)\n",
      "Requirement already satisfied: six>=1.5 in /opt/conda/lib/python3.10/site-packages (from python-dateutil>=2.7->matplotlib) (1.16.0)\n",
      "\u001b[33mWARNING: Running pip as the 'root' user can result in broken permissions and conflicting behaviour with the system package manager. It is recommended to use a virtual environment instead: https://pip.pypa.io/warnings/venv\u001b[0m\u001b[33m\n",
      "\u001b[0mNote: you may need to restart the kernel to use updated packages.\n"
     ]
    }
   ],
   "source": [
    "!pwd\n",
    "!pip install --upgrade pip\n",
    "\n",
    "# Install required redis libraries\n",
    "!python3 -m pip install boto3\n",
    "\n",
    "%pip install -q redis\n",
    "%pip -q install pandas\n",
    "%pip install matplotlib\n"
   ]
  },
  {
   "cell_type": "markdown",
   "id": "863950d0-b909-49bd-bbb8-8f929c571216",
   "metadata": {},
   "source": [
    "## 2. Initialise bedrock client."
   ]
  },
  {
   "cell_type": "code",
   "execution_count": 18,
   "id": "0bd671fe-157c-43b7-a935-7eae1a38ff62",
   "metadata": {
    "tags": []
   },
   "outputs": [],
   "source": [
    "import boto3\n",
    "import json\n",
    "# List different FMs\n",
    "bedrock2 = boto3.client('bedrock')\n",
    "#bedrock2.list_foundation_models()\n"
   ]
  },
  {
   "cell_type": "markdown",
   "id": "147e757b-ae09-4ba6-a930-064c0034aa2a",
   "metadata": {},
   "source": [
    "## 3. Construct Prompt"
   ]
  },
  {
   "cell_type": "code",
   "execution_count": null,
   "id": "ed46d1b0-69b7-4d90-a402-abcd738e91fb",
   "metadata": {
    "tags": []
   },
   "outputs": [],
   "source": [
    "prompt_data=\"\"\"Compose a radiology report for a 60-year-old male patient with persistent cough and shortness of breath.\"\"\""
   ]
  },
  {
   "cell_type": "markdown",
   "id": "6e950028-8cb9-4a43-b93f-0c5d22302728",
   "metadata": {},
   "source": [
    "## 4. Use Amazon Titan LLM to answer the question"
   ]
  },
  {
   "cell_type": "code",
   "execution_count": 9,
   "id": "e8a78c8e-0edc-46fb-95b2-0855d1dbe941",
   "metadata": {
    "tags": []
   },
   "outputs": [
    {
     "name": "stdout",
     "output_type": "stream",
     "text": [
      "Model took 3.395 seconds\n",
      "Model Response::\n",
      "\n",
      "Here is a radiology report for a 60-year-old male patient with persistent cough and shortness of breath:\n",
      "\n",
      "Subject: 60-year-old male patient with persistent cough and shortness of breath\n",
      "\n",
      "Medical History: The patient has a history of chronic obstructive pulmonary disease (COPD) and is currently on medication to manage his symptoms. He has been experiencing a persistent cough and shortness of breath for the past few weeks.\n",
      "\n",
      "Physical Examination: On physical examination, the patient was noted to have a respiratory rate of 20 breaths per minute, with oxygen saturation of 9\n"
     ]
    }
   ],
   "source": [
    "# Use Amazon Titan LLM to answer the question\n",
    "import time\n",
    "\n",
    "body = json.dumps({\"inputText\": prompt_data})\n",
    "modelId = 'amazon.titan-tg1-large' # change this to use a different version from the model provider\n",
    "accept = 'application/json'\n",
    "contentType = 'application/json'\n",
    "\n",
    "bedrock = boto3.client('bedrock-runtime')\n",
    "\n",
    "time1 = time.time()\n",
    "response = bedrock.invoke_model(body=body, modelId=modelId, accept=accept, contentType=contentType)\n",
    "time2 = time.time()\n",
    "elapsedTime = f\"{(time2-time1):.3f} seconds\"\n",
    "response_body_titan = json.loads(response.get('body').read())\n",
    "\n",
    "print(\"Model took \"+elapsedTime)\n",
    "print(\"Model Response::\")\n",
    "print(response_body_titan.get('results')[0].get('outputText'))"
   ]
  },
  {
   "cell_type": "markdown",
   "id": "5e886e52-a0b6-4ff9-be60-6722a42740e9",
   "metadata": {},
   "source": [
    "## 5.  Use Titan Embeddings Model to generate our Embeddings"
   ]
  },
  {
   "cell_type": "code",
   "execution_count": 10,
   "id": "4f72570e-e950-446d-a173-bf2b76ccee33",
   "metadata": {
    "tags": []
   },
   "outputs": [],
   "source": [
    "# We will be using the Titan Embeddings Model to generate our Embeddings.\n",
    "\n",
    "def get_embedding(body):\n",
    "    modelId = 'amazon.titan-e1t-medium'\n",
    "    accept = 'application/json'\n",
    "    contentType = 'application/json'\n",
    "\n",
    "    response = bedrock.invoke_model(body=body, modelId=modelId, accept=accept, contentType=contentType)\n",
    "    response_body = json.loads(response.get('body').read())\n",
    "    embedding = response_body.get('embedding')\n",
    "    return embedding\n",
    "\n",
    "body = json.dumps({\"inputText\": prompt_data})\n",
    "\n",
    "query_embedding = get_embedding(body)"
   ]
  },
  {
   "cell_type": "markdown",
   "id": "af5a09a2-461a-464a-87dd-cb42265a6d38",
   "metadata": {},
   "source": [
    "## 6. Configure Redis"
   ]
  },
  {
   "cell_type": "code",
   "execution_count": 11,
   "id": "568980ab-3c26-4e01-b91a-7d73a9ca0414",
   "metadata": {
    "tags": []
   },
   "outputs": [
    {
     "data": {
      "text/plain": [
       "True"
      ]
     },
     "execution_count": 11,
     "metadata": {},
     "output_type": "execute_result"
    }
   ],
   "source": [
    "# Ensure connectivity to Redis Endpoints. Replace the host, port and password from the actual Redis Database endpoint details.\n",
    "import redis\n",
    "client = redis.Redis(host = 'redis-10489.c285.us-west-2-2.ec2.cloud.redislabs.com', port=10489, password='admin', decode_responses=True)\n",
    "client.ping()\n",
    "\n",
    "# prepare a JSON object and persist it into Redis Enterprise Cloud.\n",
    "\n",
    "persist_query_object = {\n",
    "    'query': prompt_data,\n",
    "    'query_embedding': query_embedding, \n",
    "    'response': response_body_titan.get('results')[0].get('outputText')\n",
    "}\n",
    "client.json().set('query_responses:001', '$', persist_query_object)"
   ]
  },
  {
   "cell_type": "markdown",
   "id": "10a06972-2f20-4ab6-9f6d-d74c4c4f3afe",
   "metadata": {},
   "source": [
    "## 7. Prepare list of search queries that are similar to the original prompt"
   ]
  },
  {
   "cell_type": "code",
   "execution_count": 12,
   "id": "e77a64f3-4831-4d23-8bb1-bad842cce26f",
   "metadata": {
    "tags": []
   },
   "outputs": [],
   "source": [
    "# Prepare a list of search queries that are somewhat similar to the original prompt entered above and some that are entirely different\n",
    "\n",
    "similarity_search_queries = [\n",
    "    #Similar to original prompt\n",
    "    \"Prepare a radiology report for a 60-year-old man with chronic cough and breathlessness.\",\n",
    "    \"Craft a report: 60-year-old male patient, chronic cough, breathlessness.\",\n",
    "    \"Generate a report on a 60-year-old male with persistent cough.\",\n",
    "    \"Create a medical report: male patient, 60, chronic cough, breathlessness.\",\n",
    "    #That are totally different and not similar to original prompt\n",
    "    \"Design an interactive website for an online art gallery exhibition.\",\n",
    "    \"Calculate monthly expenses and analyze financial trends for a small business.\",\n",
    "    \"Develop a vegan recipe for a delicious gluten-free dessert option.\",\n",
    "    \"Construct a strategic plan for expanding a nonprofit organization's outreach.\"\n",
    "]\n",
    "\n",
    "# Lets vectorize these search query embeddings using Bedrock Tital LLM.\n",
    "similarity_search_queries_embeddings = []\n",
    "\n",
    "for input_query in similarity_search_queries:\n",
    "    input_query = json.dumps({\"inputText\": input_query})\n",
    "    query_response = get_embedding(body=input_query)\n",
    "    similarity_search_queries_embeddings.append(query_response)"
   ]
  },
  {
   "cell_type": "markdown",
   "id": "43a39779-1a82-4fb7-a4a2-61a47127cddf",
   "metadata": {},
   "source": [
    "## 8. Create index in Redis"
   ]
  },
  {
   "cell_type": "code",
   "execution_count": 13,
   "id": "04f4f412-046b-4479-845b-8904a0995a0d",
   "metadata": {
    "tags": []
   },
   "outputs": [],
   "source": [
    "# Lets start with creating an index for the query collection in Redis.\n",
    "\n",
    "# Create these query collection searchable.\n",
    "# FT.CREATE idx:query_responses_vss ON JSON\n",
    "#   PREFIX 1 query_responses: SCORE 1.0\n",
    "#   SCHEMA \n",
    "#      $.query TEXT WEIGHT 1.0 NOSTEM\n",
    "#      $.query_embedding AS vector VECTOR FLAT 6 TYPE FLOAT32 DIM 4096 DISTANCE_METRIC COSINE\n",
    "#\n",
    "\n",
    "\n",
    "from redis.commands.search.field import TagField, TextField, NumericField, VectorField\n",
    "from redis.commands.search.indexDefinition import IndexDefinition, IndexType\n",
    "from redis.commands.search.query import Query\n",
    "\n",
    "INDEX_NAME = 'idx:query_responses_vss'\n",
    "DOC_PREFIX = 'query_responses:'\n",
    "VECTOR_DIMENSION = 4096\n",
    "\n",
    "try:\n",
    "    # check to see if index exists\n",
    "    client.ft(INDEX_NAME).info()\n",
    "    print('Index already exists!')\n",
    "except:\n",
    "    # schema\n",
    "    schema = (\n",
    "        TextField('$.query', no_stem=True, as_name='query'),\n",
    "        VectorField('$.query_embedding',\n",
    "            'FLAT', {\n",
    "                'TYPE': 'FLOAT32',\n",
    "                'DIM': VECTOR_DIMENSION,\n",
    "                'DISTANCE_METRIC': 'COSINE',\n",
    "            },  as_name='vector'\n",
    "        ),\n",
    "        TextField('$.response', no_stem=True, as_name='response'),\n",
    "    )\n",
    "\n",
    "    # index Definition\n",
    "    definition = IndexDefinition(prefix=[DOC_PREFIX], index_type=IndexType.JSON)\n",
    "\n",
    "    # create Index\n",
    "    client.ft(INDEX_NAME).create_index(fields=schema, definition=definition)\n"
   ]
  },
  {
   "cell_type": "markdown",
   "id": "a1841da9-d654-4871-89b3-24bd20169d67",
   "metadata": {},
   "source": [
    "## 9. Construct vector search query "
   ]
  },
  {
   "cell_type": "code",
   "execution_count": 14,
   "id": "46b11d27-a222-44d9-a4d1-d796f9ea91d0",
   "metadata": {
    "tags": []
   },
   "outputs": [],
   "source": [
    "# Create a KNN query. KNN is a foundational algorithm used in vector similarity search, where the goal is \n",
    "# to find the most similar items to a given query item. Using the chosen distance metric, the KNN algorithm \n",
    "# calculates the distance between the query vector and each vector in the database. \n",
    "# It then returns the 'K' items with the smallest distances to the query vector. \n",
    "# These are considered to be the most similar items.\n",
    "query = (\n",
    "    Query('(*)=>[KNN 3 @vector $query_vector AS vector_score]')\n",
    "     .sort_by('vector_score')\n",
    "     .return_fields('vector_score', 'query', 'response')\n",
    "     .dialect(2)\n",
    ")"
   ]
  },
  {
   "cell_type": "markdown",
   "id": "cc006503-8eff-420b-8cce-0bccd3a06451",
   "metadata": {},
   "source": [
    "## 10. Construct result using Redis for semantic caching  "
   ]
  },
  {
   "cell_type": "code",
   "execution_count": 15,
   "id": "640a9090-23f1-4094-84cf-1dcba7cab323",
   "metadata": {
    "tags": []
   },
   "outputs": [],
   "source": [
    "### If they are similar, get the response from Redis Database cache instead of asking the Amazon Titan LLM thus saving compute power. If they are not similar, get the response from LLM.\n",
    "import pandas as pd\n",
    "import time\n",
    "import numpy as np\n",
    "\n",
    "from IPython.display import display, HTML\n",
    "\n",
    "INDEX_NAME = 'idx:query_responses_vss'\n",
    "\n",
    "results_list = []\n",
    "\n",
    "def create_query_table(query, queries, encoded_queries, extra_params = {}):\n",
    "    \n",
    "    \n",
    "    VSS_SCORE_THRESHOLD = 0.75\n",
    "    for i, encoded_query in enumerate(encoded_queries):\n",
    "        start_time = time.time()\n",
    "        result_docs = client.ft(INDEX_NAME).search(query, { 'query_vector' : np.array(encoded_query, dtype=np.float32).tobytes() } ).docs\n",
    "        end_time = time.time()\n",
    "        elapsed_time = end_time - start_time\n",
    "        elapsed_time_in_sec = f\"{elapsed_time:.3f}\"\n",
    "        \n",
    "        fetch_from = \"\"\n",
    "        response = \"\"\n",
    "        persisted_query = \"\"\n",
    "        \n",
    "        for doc in result_docs:\n",
    "            vector_score = round(1 - float(doc.vector_score), 2)           \n",
    "            \n",
    "            # Check if the vector_score value is above or equal to VSS_SCORE_THRESHOLD ( default = 0.75, set above)\n",
    "            # If above 0.75, it is almost 75% or more similar to the original prompt. \n",
    "            # In that case, fetch the record from REDIS.\n",
    "            # Otherwise, invoke Amazon Titan LLM and get a newer response. \n",
    "            if vector_score >= VSS_SCORE_THRESHOLD:\n",
    "                fetch_from = \"Semantic Caching\"\n",
    "                response = doc.response\n",
    "                persisted_query = doc.query\n",
    "            else:\n",
    "                fetch_from = \"Without Semantic Caching\"\n",
    "                response = \"This will be a new call to Bedrock LLM\"\n",
    "                body = json.dumps({\"inputText\": queries[i]})\n",
    "                modelId = 'amazon.titan-tg1-large' # change this to use a different version from the model provider\n",
    "                accept = 'application/json'\n",
    "                contentType = 'application/json'\n",
    "                persisted_query = 'N/A'\n",
    "                \n",
    "                start_time = time.time()\n",
    "                response_llm = bedrock.invoke_model(body=body, modelId=modelId, accept=accept, contentType=contentType)\n",
    "                end_time = time.time()\n",
    "                elapsed_time = end_time - start_time\n",
    "                elapsed_time_in_sec = f\"{elapsed_time:.3f}\"\n",
    "                \n",
    "                response_body_titan = json.loads(response_llm.get('body').read())\n",
    "                response = response_body_titan.get('results')[0].get('outputText')\n",
    "            \n",
    "            results_list.append({\n",
    "                'query': queries[i], \n",
    "                'score': vector_score,\n",
    "                'latency': elapsed_time_in_sec,\n",
    "                'fetched from': fetch_from,\n",
    "                'persisted_query': persisted_query,\n",
    "                'response': response\n",
    "            })\n",
    "\n",
    "    # Pretty-print the table\n",
    "    queries_table = pd.DataFrame(results_list)\n",
    "    queries_table.sort_values(by=['score', 'query'], ascending=[False, True], inplace=True)\n",
    "    queries_table['query'] = queries_table.groupby('query')['query'].transform(lambda x: [x.iloc[0]] + ['']*(len(x)-1))\n",
    "    queries_table['response'] = queries_table['response'].apply(lambda x: (x[:497] + '...') if len(x) > 500 else x)\n",
    "    html = queries_table.to_html(index=False)\n",
    "    display(HTML(html))"
   ]
  },
  {
   "cell_type": "markdown",
   "id": "64e41b22-298a-4252-88ad-ca5ef0fec119",
   "metadata": {},
   "source": [
    "## 11. Go ahead and display the results"
   ]
  },
  {
   "cell_type": "code",
   "execution_count": 16,
   "id": "1da14294-d9ca-457f-a62e-ad6187d0a3c6",
   "metadata": {
    "tags": []
   },
   "outputs": [
    {
     "data": {
      "text/html": [
       "<table border=\"1\" class=\"dataframe\">\n",
       "  <thead>\n",
       "    <tr style=\"text-align: right;\">\n",
       "      <th>query</th>\n",
       "      <th>score</th>\n",
       "      <th>latency</th>\n",
       "      <th>fetched from</th>\n",
       "      <th>persisted_query</th>\n",
       "      <th>response</th>\n",
       "    </tr>\n",
       "  </thead>\n",
       "  <tbody>\n",
       "    <tr>\n",
       "      <td>Prepare a radiology report for a 60-year-old man with chronic cough and breathlessness.</td>\n",
       "      <td>0.96</td>\n",
       "      <td>0.002</td>\n",
       "      <td>Semantic Caching</td>\n",
       "      <td>Compose a radiology report for a 60-year-old male patient with persistent cough and shortness of breath.</td>\n",
       "      <td>\\nHere is a radiology report for a 60-year-old male patient with persistent cough and shortness of breath:\\n\\nSubject: 60-year-old male patient with persistent cough and shortness of breath\\n\\nMedical History: The patient has a history of chronic obstructive pulmonary disease (COPD) and is currently on medication to manage his symptoms. He has been experiencing a persistent cough and shortness of breath for the past few weeks.\\n\\nPhysical Examination: On physical examination, the patient was noted t...</td>\n",
       "    </tr>\n",
       "    <tr>\n",
       "      <td>Generate a report on a 60-year-old male with persistent cough.</td>\n",
       "      <td>0.79</td>\n",
       "      <td>0.001</td>\n",
       "      <td>Semantic Caching</td>\n",
       "      <td>Compose a radiology report for a 60-year-old male patient with persistent cough and shortness of breath.</td>\n",
       "      <td>\\nHere is a radiology report for a 60-year-old male patient with persistent cough and shortness of breath:\\n\\nSubject: 60-year-old male patient with persistent cough and shortness of breath\\n\\nMedical History: The patient has a history of chronic obstructive pulmonary disease (COPD) and is currently on medication to manage his symptoms. He has been experiencing a persistent cough and shortness of breath for the past few weeks.\\n\\nPhysical Examination: On physical examination, the patient was noted t...</td>\n",
       "    </tr>\n",
       "    <tr>\n",
       "      <td>Craft a report: 60-year-old male patient, chronic cough, breathlessness.</td>\n",
       "      <td>0.78</td>\n",
       "      <td>0.001</td>\n",
       "      <td>Semantic Caching</td>\n",
       "      <td>Compose a radiology report for a 60-year-old male patient with persistent cough and shortness of breath.</td>\n",
       "      <td>\\nHere is a radiology report for a 60-year-old male patient with persistent cough and shortness of breath:\\n\\nSubject: 60-year-old male patient with persistent cough and shortness of breath\\n\\nMedical History: The patient has a history of chronic obstructive pulmonary disease (COPD) and is currently on medication to manage his symptoms. He has been experiencing a persistent cough and shortness of breath for the past few weeks.\\n\\nPhysical Examination: On physical examination, the patient was noted t...</td>\n",
       "    </tr>\n",
       "    <tr>\n",
       "      <td>Create a medical report: male patient, 60, chronic cough, breathlessness.</td>\n",
       "      <td>0.75</td>\n",
       "      <td>0.001</td>\n",
       "      <td>Semantic Caching</td>\n",
       "      <td>Compose a radiology report for a 60-year-old male patient with persistent cough and shortness of breath.</td>\n",
       "      <td>\\nHere is a radiology report for a 60-year-old male patient with persistent cough and shortness of breath:\\n\\nSubject: 60-year-old male patient with persistent cough and shortness of breath\\n\\nMedical History: The patient has a history of chronic obstructive pulmonary disease (COPD) and is currently on medication to manage his symptoms. He has been experiencing a persistent cough and shortness of breath for the past few weeks.\\n\\nPhysical Examination: On physical examination, the patient was noted t...</td>\n",
       "    </tr>\n",
       "    <tr>\n",
       "      <td>Construct a strategic plan for expanding a nonprofit organization's outreach.</td>\n",
       "      <td>0.06</td>\n",
       "      <td>3.269</td>\n",
       "      <td>Without Semantic Caching</td>\n",
       "      <td>N/A</td>\n",
       "      <td>\\nHere is a strategic plan for expanding a nonprofit organization's outreach:\\n1. Define the target audience: Identify the specific demographic, geographic, and psychographic characteristics of the people the nonprofit organization wants to reach. This will help the organization develop targeted outreach strategies.\\n2. Develop a marketing plan: Create a marketing plan that outlines the strategies the organization will use to reach its target audience. This may include social media campaigns, pu...</td>\n",
       "    </tr>\n",
       "    <tr>\n",
       "      <td>Calculate monthly expenses and analyze financial trends for a small business.</td>\n",
       "      <td>0.04</td>\n",
       "      <td>3.238</td>\n",
       "      <td>Without Semantic Caching</td>\n",
       "      <td>N/A</td>\n",
       "      <td>\\nCertainly! Here's a step-by-step guide to monthly expenses and financial trend analysis for a small business:\\n1. Gather all financial statements, including income statements, balance sheets, and cash flow statements, for the current and previous months.\\n2. Classify expenses into fixed (e.g., rent, utilities) and variable (e.g., sales, marketing).\\n3. Calculate the total expenses for each month and compare them to the previous month's expenses.\\n4. Identify any significant changes in expense ca...</td>\n",
       "    </tr>\n",
       "    <tr>\n",
       "      <td>Develop a vegan recipe for a delicious gluten-free dessert option.</td>\n",
       "      <td>0.04</td>\n",
       "      <td>3.323</td>\n",
       "      <td>Without Semantic Caching</td>\n",
       "      <td>N/A</td>\n",
       "      <td>\\nHere is a vegan recipe for a delicious gluten-free dessert option:\\nVegan Chocolate Pecan Fudge Cookies\\nIngredients:\\n- 1 cup coconut sugar\\n- 1/2 cup vegan butter, melted\\n- 1/2 cup maple syrup\\n- 1/2 cup almond milk\\n- 1 teaspoon vanilla extract\\n- 2 cups gluten-free flour\\n- 1 teaspoon baking soda\\n- 1/2 teaspoon salt\\n- 1/2 cup chopped pecans\\n- 1/4 cup vegan chocolate chips\\nInstructions:\\n1. Preheat the oven to 35</td>\n",
       "    </tr>\n",
       "    <tr>\n",
       "      <td>Design an interactive website for an online art gallery exhibition.</td>\n",
       "      <td>0.03</td>\n",
       "      <td>3.201</td>\n",
       "      <td>Without Semantic Caching</td>\n",
       "      <td>N/A</td>\n",
       "      <td>\\nHere is an interactive website for an online art gallery exhibition:\\n\\nHomepage:\\n\\nThe homepage showcases a rotating gallery of featured artworks with thumbnails and titles. Users can click on the artwork to view it in full-screen mode.\\n\\nArtwork Gallery:\\n\\nThe artwork gallery is organized into categories such as paintings, sculptures, photography, and mixed media. Users can browse through the categories or use the search bar to find specific artworks.\\n\\nArtist Profiles:\\n\\nEach artwork has an acco...</td>\n",
       "    </tr>\n",
       "  </tbody>\n",
       "</table>"
      ],
      "text/plain": [
       "<IPython.core.display.HTML object>"
      ]
     },
     "metadata": {},
     "output_type": "display_data"
    }
   ],
   "source": [
    "# Now goahead and display the results:\n",
    "\n",
    "create_query_table(query, similarity_search_queries, similarity_search_queries_embeddings)"
   ]
  },
  {
   "cell_type": "markdown",
   "id": "ef4c879d-79ad-4d44-9e19-38e0ce2de203",
   "metadata": {},
   "source": [
    "## 12. Check the LLM latency Vs Sematic caching "
   ]
  },
  {
   "cell_type": "code",
   "execution_count": 17,
   "id": "eaa54ea6-432c-4e56-a5a4-253b7fe65f57",
   "metadata": {
    "tags": []
   },
   "outputs": [
    {
     "data": {
      "image/png": "[encoded data removed]",
      "text/plain": [
       "<Figure size 640x480 with 1 Axes>"
      ]
     },
     "metadata": {},
     "output_type": "display_data"
    }
   ],
   "source": [
    "# Visually check the performance: with and without semantic caching\n",
    "import matplotlib.pyplot as plt \n",
    "\n",
    "qry_table = pd.DataFrame(results_list)\n",
    "plt.xlabel('Latency in seconds') \n",
    "qry_table.sort_values(by=['latency'], ascending=[True], inplace=True)\n",
    "plt.plot(qry_table['latency'], qry_table['fetched from']) \n",
    "plt.show()\n"
   ]
  }
 ],
 "metadata": {
  "availableInstances": [
   {
    "_defaultOrder": 0,
    "_isFastLaunch": true,
    "category": "General purpose",
    "gpuNum": 0,
    "hideHardwareSpecs": false,
    "memoryGiB": 4,
    "name": "ml.t3.medium",
    "vcpuNum": 2
   },
   {
    "_defaultOrder": 1,
    "_isFastLaunch": false,
    "category": "General purpose",
    "gpuNum": 0,
    "hideHardwareSpecs": false,
    "memoryGiB": 8,
    "name": "ml.t3.large",
    "vcpuNum": 2
   },
   {
    "_defaultOrder": 2,
    "_isFastLaunch": false,
    "category": "General purpose",
    "gpuNum": 0,
    "hideHardwareSpecs": false,
    "memoryGiB": 16,
    "name": "ml.t3.xlarge",
    "vcpuNum": 4
   },
   {
    "_defaultOrder": 3,
    "_isFastLaunch": false,
    "category": "General purpose",
    "gpuNum": 0,
    "hideHardwareSpecs": false,
    "memoryGiB": 32,
    "name": "ml.t3.2xlarge",
    "vcpuNum": 8
   },
   {
    "_defaultOrder": 4,
    "_isFastLaunch": true,
    "category": "General purpose",
    "gpuNum": 0,
    "hideHardwareSpecs": false,
    "memoryGiB": 8,
    "name": "ml.m5.large",
    "vcpuNum": 2
   },
   {
    "_defaultOrder": 5,
    "_isFastLaunch": false,
    "category": "General purpose",
    "gpuNum": 0,
    "hideHardwareSpecs": false,
    "memoryGiB": 16,
    "name": "ml.m5.xlarge",
    "vcpuNum": 4
   },
   {
    "_defaultOrder": 6,
    "_isFastLaunch": false,
    "category": "General purpose",
    "gpuNum": 0,
    "hideHardwareSpecs": false,
    "memoryGiB": 32,
    "name": "ml.m5.2xlarge",
    "vcpuNum": 8
   },
   {
    "_defaultOrder": 7,
    "_isFastLaunch": false,
    "category": "General purpose",
    "gpuNum": 0,
    "hideHardwareSpecs": false,
    "memoryGiB": 64,
    "name": "ml.m5.4xlarge",
    "vcpuNum": 16
   },
   {
    "_defaultOrder": 8,
    "_isFastLaunch": false,
    "category": "General purpose",
    "gpuNum": 0,
    "hideHardwareSpecs": false,
    "memoryGiB": 128,
    "name": "ml.m5.8xlarge",
    "vcpuNum": 32
   },
   {
    "_defaultOrder": 9,
    "_isFastLaunch": false,
    "category": "General purpose",
    "gpuNum": 0,
    "hideHardwareSpecs": false,
    "memoryGiB": 192,
    "name": "ml.m5.12xlarge",
    "vcpuNum": 48
   },
   {
    "_defaultOrder": 10,
    "_isFastLaunch": false,
    "category": "General purpose",
    "gpuNum": 0,
    "hideHardwareSpecs": false,
    "memoryGiB": 256,
    "name": "ml.m5.16xlarge",
    "vcpuNum": 64
   },
   {
    "_defaultOrder": 11,
    "_isFastLaunch": false,
    "category": "General purpose",
    "gpuNum": 0,
    "hideHardwareSpecs": false,
    "memoryGiB": 384,
    "name": "ml.m5.24xlarge",
    "vcpuNum": 96
   },
   {
    "_defaultOrder": 12,
    "_isFastLaunch": false,
    "category": "General purpose",
    "gpuNum": 0,
    "hideHardwareSpecs": false,
    "memoryGiB": 8,
    "name": "ml.m5d.large",
    "vcpuNum": 2
   },
   {
    "_defaultOrder": 13,
    "_isFastLaunch": false,
    "category": "General purpose",
    "gpuNum": 0,
    "hideHardwareSpecs": false,
    "memoryGiB": 16,
    "name": "ml.m5d.xlarge",
    "vcpuNum": 4
   },
   {
    "_defaultOrder": 14,
    "_isFastLaunch": false,
    "category": "General purpose",
    "gpuNum": 0,
    "hideHardwareSpecs": false,
    "memoryGiB": 32,
    "name": "ml.m5d.2xlarge",
    "vcpuNum": 8
   },
   {
    "_defaultOrder": 15,
    "_isFastLaunch": false,
    "category": "General purpose",
    "gpuNum": 0,
    "hideHardwareSpecs": false,
    "memoryGiB": 64,
    "name": "ml.m5d.4xlarge",
    "vcpuNum": 16
   },
   {
    "_defaultOrder": 16,
    "_isFastLaunch": false,
    "category": "General purpose",
    "gpuNum": 0,
    "hideHardwareSpecs": false,
    "memoryGiB": 128,
    "name": "ml.m5d.8xlarge",
    "vcpuNum": 32
   },
   {
    "_defaultOrder": 17,
    "_isFastLaunch": false,
    "category": "General purpose",
    "gpuNum": 0,
    "hideHardwareSpecs": false,
    "memoryGiB": 192,
    "name": "ml.m5d.12xlarge",
    "vcpuNum": 48
   },
   {
    "_defaultOrder": 18,
    "_isFastLaunch": false,
    "category": "General purpose",
    "gpuNum": 0,
    "hideHardwareSpecs": false,
    "memoryGiB": 256,
    "name": "ml.m5d.16xlarge",
    "vcpuNum": 64
   },
   {
    "_defaultOrder": 19,
    "_isFastLaunch": false,
    "category": "General purpose",
    "gpuNum": 0,
    "hideHardwareSpecs": false,
    "memoryGiB": 384,
    "name": "ml.m5d.24xlarge",
    "vcpuNum": 96
   },
   {
    "_defaultOrder": 20,
    "_isFastLaunch": false,
    "category": "General purpose",
    "gpuNum": 0,
    "hideHardwareSpecs": true,
    "memoryGiB": 0,
    "name": "ml.geospatial.interactive",
    "supportedImageNames": [
     "sagemaker-geospatial-v1-0"
    ],
    "vcpuNum": 0
   },
   {
    "_defaultOrder": 21,
    "_isFastLaunch": true,
    "category": "Compute optimized",
    "gpuNum": 0,
    "hideHardwareSpecs": false,
    "memoryGiB": 4,
    "name": "ml.c5.large",
    "vcpuNum": 2
   },
   {
    "_defaultOrder": 22,
    "_isFastLaunch": false,
    "category": "Compute optimized",
    "gpuNum": 0,
    "hideHardwareSpecs": false,
    "memoryGiB": 8,
    "name": "ml.c5.xlarge",
    "vcpuNum": 4
   },
   {
    "_defaultOrder": 23,
    "_isFastLaunch": false,
    "category": "Compute optimized",
    "gpuNum": 0,
    "hideHardwareSpecs": false,
    "memoryGiB": 16,
    "name": "ml.c5.2xlarge",
    "vcpuNum": 8
   },
   {
    "_defaultOrder": 24,
    "_isFastLaunch": false,
    "category": "Compute optimized",
    "gpuNum": 0,
    "hideHardwareSpecs": false,
    "memoryGiB": 32,
    "name": "ml.c5.4xlarge",
    "vcpuNum": 16
   },
   {
    "_defaultOrder": 25,
    "_isFastLaunch": false,
    "category": "Compute optimized",
    "gpuNum": 0,
    "hideHardwareSpecs": false,
    "memoryGiB": 72,
    "name": "ml.c5.9xlarge",
    "vcpuNum": 36
   },
   {
    "_defaultOrder": 26,
    "_isFastLaunch": false,
    "category": "Compute optimized",
    "gpuNum": 0,
    "hideHardwareSpecs": false,
    "memoryGiB": 96,
    "name": "ml.c5.12xlarge",
    "vcpuNum": 48
   },
   {
    "_defaultOrder": 27,
    "_isFastLaunch": false,
    "category": "Compute optimized",
    "gpuNum": 0,
    "hideHardwareSpecs": false,
    "memoryGiB": 144,
    "name": "ml.c5.18xlarge",
    "vcpuNum": 72
   },
   {
    "_defaultOrder": 28,
    "_isFastLaunch": false,
    "category": "Compute optimized",
    "gpuNum": 0,
    "hideHardwareSpecs": false,
    "memoryGiB": 192,
    "name": "ml.c5.24xlarge",
    "vcpuNum": 96
   },
   {
    "_defaultOrder": 29,
    "_isFastLaunch": true,
    "category": "Accelerated computing",
    "gpuNum": 1,
    "hideHardwareSpecs": false,
    "memoryGiB": 16,
    "name": "ml.g4dn.xlarge",
    "vcpuNum": 4
   },
   {
    "_defaultOrder": 30,
    "_isFastLaunch": false,
    "category": "Accelerated computing",
    "gpuNum": 1,
    "hideHardwareSpecs": false,
    "memoryGiB": 32,
    "name": "ml.g4dn.2xlarge",
    "vcpuNum": 8
   },
   {
    "_defaultOrder": 31,
    "_isFastLaunch": false,
    "category": "Accelerated computing",
    "gpuNum": 1,
    "hideHardwareSpecs": false,
    "memoryGiB": 64,
    "name": "ml.g4dn.4xlarge",
    "vcpuNum": 16
   },
   {
    "_defaultOrder": 32,
    "_isFastLaunch": false,
    "category": "Accelerated computing",
    "gpuNum": 1,
    "hideHardwareSpecs": false,
    "memoryGiB": 128,
    "name": "ml.g4dn.8xlarge",
    "vcpuNum": 32
   },
   {
    "_defaultOrder": 33,
    "_isFastLaunch": false,
    "category": "Accelerated computing",
    "gpuNum": 4,
    "hideHardwareSpecs": false,
    "memoryGiB": 192,
    "name": "ml.g4dn.12xlarge",
    "vcpuNum": 48
   },
   {
    "_defaultOrder": 34,
    "_isFastLaunch": false,
    "category": "Accelerated computing",
    "gpuNum": 1,
    "hideHardwareSpecs": false,
    "memoryGiB": 256,
    "name": "ml.g4dn.16xlarge",
    "vcpuNum": 64
   },
   {
    "_defaultOrder": 35,
    "_isFastLaunch": false,
    "category": "Accelerated computing",
    "gpuNum": 1,
    "hideHardwareSpecs": false,
    "memoryGiB": 61,
    "name": "ml.p3.2xlarge",
    "vcpuNum": 8
   },
   {
    "_defaultOrder": 36,
    "_isFastLaunch": false,
    "category": "Accelerated computing",
    "gpuNum": 4,
    "hideHardwareSpecs": false,
    "memoryGiB": 244,
    "name": "ml.p3.8xlarge",
    "vcpuNum": 32
   },
   {
    "_defaultOrder": 37,
    "_isFastLaunch": false,
    "category": "Accelerated computing",
    "gpuNum": 8,
    "hideHardwareSpecs": false,
    "memoryGiB": 488,
    "name": "ml.p3.16xlarge",
    "vcpuNum": 64
   },
   {
    "_defaultOrder": 38,
    "_isFastLaunch": false,
    "category": "Accelerated computing",
    "gpuNum": 8,
    "hideHardwareSpecs": false,
    "memoryGiB": 768,
    "name": "ml.p3dn.24xlarge",
    "vcpuNum": 96
   },
   {
    "_defaultOrder": 39,
    "_isFastLaunch": false,
    "category": "Memory Optimized",
    "gpuNum": 0,
    "hideHardwareSpecs": false,
    "memoryGiB": 16,
    "name": "ml.r5.large",
    "vcpuNum": 2
   },
   {
    "_defaultOrder": 40,
    "_isFastLaunch": false,
    "category": "Memory Optimized",
    "gpuNum": 0,
    "hideHardwareSpecs": false,
    "memoryGiB": 32,
    "name": "ml.r5.xlarge",
    "vcpuNum": 4
   },
   {
    "_defaultOrder": 41,
    "_isFastLaunch": false,
    "category": "Memory Optimized",
    "gpuNum": 0,
    "hideHardwareSpecs": false,
    "memoryGiB": 64,
    "name": "ml.r5.2xlarge",
    "vcpuNum": 8
   },
   {
    "_defaultOrder": 42,
    "_isFastLaunch": false,
    "category": "Memory Optimized",
    "gpuNum": 0,
    "hideHardwareSpecs": false,
    "memoryGiB": 128,
    "name": "ml.r5.4xlarge",
    "vcpuNum": 16
   },
   {
    "_defaultOrder": 43,
    "_isFastLaunch": false,
    "category": "Memory Optimized",
    "gpuNum": 0,
    "hideHardwareSpecs": false,
    "memoryGiB": 256,
    "name": "ml.r5.8xlarge",
    "vcpuNum": 32
   },
   {
    "_defaultOrder": 44,
    "_isFastLaunch": false,
    "category": "Memory Optimized",
    "gpuNum": 0,
    "hideHardwareSpecs": false,
    "memoryGiB": 384,
    "name": "ml.r5.12xlarge",
    "vcpuNum": 48
   },
   {
    "_defaultOrder": 45,
    "_isFastLaunch": false,
    "category": "Memory Optimized",
    "gpuNum": 0,
    "hideHardwareSpecs": false,
    "memoryGiB": 512,
    "name": "ml.r5.16xlarge",
    "vcpuNum": 64
   },
   {
    "_defaultOrder": 46,
    "_isFastLaunch": false,
    "category": "Memory Optimized",
    "gpuNum": 0,
    "hideHardwareSpecs": false,
    "memoryGiB": 768,
    "name": "ml.r5.24xlarge",
    "vcpuNum": 96
   },
   {
    "_defaultOrder": 47,
    "_isFastLaunch": false,
    "category": "Accelerated computing",
    "gpuNum": 1,
    "hideHardwareSpecs": false,
    "memoryGiB": 16,
    "name": "ml.g5.xlarge",
    "vcpuNum": 4
   },
   {
    "_defaultOrder": 48,
    "_isFastLaunch": false,
    "category": "Accelerated computing",
    "gpuNum": 1,
    "hideHardwareSpecs": false,
    "memoryGiB": 32,
    "name": "ml.g5.2xlarge",
    "vcpuNum": 8
   },
   {
    "_defaultOrder": 49,
    "_isFastLaunch": false,
    "category": "Accelerated computing",
    "gpuNum": 1,
    "hideHardwareSpecs": false,
    "memoryGiB": 64,
    "name": "ml.g5.4xlarge",
    "vcpuNum": 16
   },
   {
    "_defaultOrder": 50,
    "_isFastLaunch": false,
    "category": "Accelerated computing",
    "gpuNum": 1,
    "hideHardwareSpecs": false,
    "memoryGiB": 128,
    "name": "ml.g5.8xlarge",
    "vcpuNum": 32
   },
   {
    "_defaultOrder": 51,
    "_isFastLaunch": false,
    "category": "Accelerated computing",
    "gpuNum": 1,
    "hideHardwareSpecs": false,
    "memoryGiB": 256,
    "name": "ml.g5.16xlarge",
    "vcpuNum": 64
   },
   {
    "_defaultOrder": 52,
    "_isFastLaunch": false,
    "category": "Accelerated computing",
    "gpuNum": 4,
    "hideHardwareSpecs": false,
    "memoryGiB": 192,
    "name": "ml.g5.12xlarge",
    "vcpuNum": 48
   },
   {
    "_defaultOrder": 53,
    "_isFastLaunch": false,
    "category": "Accelerated computing",
    "gpuNum": 4,
    "hideHardwareSpecs": false,
    "memoryGiB": 384,
    "name": "ml.g5.24xlarge",
    "vcpuNum": 96
   },
   {
    "_defaultOrder": 54,
    "_isFastLaunch": false,
    "category": "Accelerated computing",
    "gpuNum": 8,
    "hideHardwareSpecs": false,
    "memoryGiB": 768,
    "name": "ml.g5.48xlarge",
    "vcpuNum": 192
   },
   {
    "_defaultOrder": 55,
    "_isFastLaunch": false,
    "category": "Accelerated computing",
    "gpuNum": 8,
    "hideHardwareSpecs": false,
    "memoryGiB": 1152,
    "name": "ml.p4d.24xlarge",
    "vcpuNum": 96
   },
   {
    "_defaultOrder": 56,
    "_isFastLaunch": false,
    "category": "Accelerated computing",
    "gpuNum": 8,
    "hideHardwareSpecs": false,
    "memoryGiB": 1152,
    "name": "ml.p4de.24xlarge",
    "vcpuNum": 96
   },
   {
    "_defaultOrder": 57,
    "_isFastLaunch": false,
    "category": "Accelerated computing",
    "gpuNum": 0,
    "hideHardwareSpecs": false,
    "memoryGiB": 32,
    "name": "ml.trn1.2xlarge",
    "vcpuNum": 8
   },
   {
    "_defaultOrder": 58,
    "_isFastLaunch": false,
    "category": "Accelerated computing",
    "gpuNum": 0,
    "hideHardwareSpecs": false,
    "memoryGiB": 512,
    "name": "ml.trn1.32xlarge",
    "vcpuNum": 128
   },
   {
    "_defaultOrder": 59,
    "_isFastLaunch": false,
    "category": "Accelerated computing",
    "gpuNum": 0,
    "hideHardwareSpecs": false,
    "memoryGiB": 512,
    "name": "ml.trn1n.32xlarge",
    "vcpuNum": 128
   }
  ],
  "instance_type": "ml.t3.medium",
  "kernelspec": {
   "display_name": "Python 3 (Data Science 3.0)",
   "language": "python",
   "name": "python3__SAGEMAKER_INTERNAL__arn:aws:sagemaker:us-west-2:236514542706:image/sagemaker-data-science-310-v1"
  },
  "language_info": {
   "codemirror_mode": {
    "name": "ipython",
    "version": 3
   },
   "file_extension": ".py",
   "mimetype": "text/x-python",
   "name": "python",
   "nbconvert_exporter": "python",
   "pygments_lexer": "ipython3",
   "version": "3.10.6"
  }
 },
 "nbformat": 4,
 "nbformat_minor": 5
}
